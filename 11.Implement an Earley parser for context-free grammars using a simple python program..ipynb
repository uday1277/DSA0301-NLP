{
  "nbformat": 4,
  "nbformat_minor": 0,
  "metadata": {
    "colab": {
      "provenance": [],
      "authorship_tag": "ABX9TyPncchiYjKYOMacB7RuCnD3",
      "include_colab_link": true
    },
    "kernelspec": {
      "name": "python3",
      "display_name": "Python 3"
    },
    "language_info": {
      "name": "python"
    }
  },
  "cells": [
    {
      "cell_type": "markdown",
      "metadata": {
        "id": "view-in-github",
        "colab_type": "text"
      },
      "source": [
        "<a href=\"https://colab.research.google.com/github/uday1277/DSA0301-NLP/blob/main/11.Implement%20an%20Earley%20parser%20for%20context-free%20grammars%20using%20a%20simple%20python%20program..ipynb\" target=\"_parent\"><img src=\"https://colab.research.google.com/assets/colab-badge.svg\" alt=\"Open In Colab\"/></a>"
      ]
    },
    {
      "cell_type": "code",
      "execution_count": 1,
      "metadata": {
        "colab": {
          "base_uri": "https://localhost:8080/"
        },
        "id": "8R8QhXBVcuSU",
        "outputId": "f13f2252-08f9-46a4-fea9-8fb4b4ab6c72"
      },
      "outputs": [
        {
          "output_type": "stream",
          "name": "stdout",
          "text": [
            "Input string is not valid.\n"
          ]
        }
      ],
      "source": [
        "def predict(productions, state, chart):\n",
        "    for production in productions:\n",
        "        if state[2] < len(production[1]):\n",
        "            chart.append((production[0], production[1], 0, state[1]))\n",
        "\n",
        "def scan(word, state, chart):\n",
        "    if state[2] < len(state[0]) and state[0][state[2]] == word:\n",
        "        chart.append((state[0], state[1], state[2] + 1, state[3]))\n",
        "\n",
        "def complete(state, chart):\n",
        "    for st in chart:\n",
        "        if state[2] < len(st[0]) and st[0][state[2]] == state[1][state[3]]:\n",
        "            chart.append((st[0], st[1], st[2] + 1, st[3]))\n",
        "\n",
        "def earley_parser(grammar, input_str):\n",
        "    chart = [(('S', ['E']), 'E', 0, 0)]\n",
        "    productions = grammar\n",
        "\n",
        "    for i, word in enumerate(input_str.split()):\n",
        "        for state in chart:\n",
        "            if state[2] < len(state[0]) and state[0][state[2]] in grammar:\n",
        "                predict(productions, state, chart)\n",
        "            else:\n",
        "                scan(word, state, chart)\n",
        "\n",
        "        j = 0\n",
        "        while j < len(chart):\n",
        "            state = chart[j]\n",
        "            if state[2] == len(state[0]):\n",
        "                complete(state, chart)\n",
        "            j += 1\n",
        "\n",
        "    return chart\n",
        "\n",
        "def main():\n",
        "    grammar = [\n",
        "        ('E', ['E', '+', 'T']),\n",
        "        ('E', ['T']),\n",
        "        ('T', ['T', '*', 'F']),\n",
        "        ('T', ['F']),\n",
        "        ('F', ['(', 'E', ')']),\n",
        "        ('F', ['num'])\n",
        "    ]\n",
        "\n",
        "    input_str = \"3 + 4 * (5 + 2)\"\n",
        "    chart = earley_parser(grammar, input_str)\n",
        "\n",
        "    for i, state in enumerate(chart):\n",
        "        if state[0] == ('S', ['E']) and state[2] == 6:\n",
        "            print(\"Input string is valid.\")\n",
        "            break\n",
        "        elif i == len(chart) - 1:\n",
        "            print(\"Input string is not valid.\")\n",
        "\n",
        "if __name__ == \"__main__\":\n",
        "    main()\n"
      ]
    }
  ]
}
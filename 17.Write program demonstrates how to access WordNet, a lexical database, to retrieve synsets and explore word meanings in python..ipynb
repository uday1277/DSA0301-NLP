{
  "nbformat": 4,
  "nbformat_minor": 0,
  "metadata": {
    "colab": {
      "provenance": [],
      "authorship_tag": "ABX9TyN48E3a1ocl8kgGcrqBY9xB",
      "include_colab_link": true
    },
    "kernelspec": {
      "name": "python3",
      "display_name": "Python 3"
    },
    "language_info": {
      "name": "python"
    }
  },
  "cells": [
    {
      "cell_type": "markdown",
      "metadata": {
        "id": "view-in-github",
        "colab_type": "text"
      },
      "source": [
        "<a href=\"https://colab.research.google.com/github/uday1277/DSA0301-NLP/blob/main/17.Write%20program%20demonstrates%20how%20to%20access%20WordNet%2C%20a%20lexical%20database%2C%20to%20retrieve%20synsets%20and%20explore%20word%20meanings%20in%20python..ipynb\" target=\"_parent\"><img src=\"https://colab.research.google.com/assets/colab-badge.svg\" alt=\"Open In Colab\"/></a>"
      ]
    },
    {
      "cell_type": "code",
      "execution_count": 1,
      "metadata": {
        "colab": {
          "base_uri": "https://localhost:8080/"
        },
        "id": "pWtqvyheFQPP",
        "outputId": "2db5a9b3-7eff-47f1-bd7c-a87511aa65e6"
      },
      "outputs": [
        {
          "output_type": "stream",
          "name": "stderr",
          "text": [
            "[nltk_data] Downloading package wordnet to /root/nltk_data...\n"
          ]
        },
        {
          "output_type": "stream",
          "name": "stdout",
          "text": [
            "Synsets for the word 'example':\n",
            "Synset: example.n.01\n",
            "Definition: an item of information that is typical of a class or group\n",
            "Examples: ['this patient provides a typical example of the syndrome', 'there is an example on page 10']\n",
            "\n",
            "Synset: model.n.07\n",
            "Definition: a representative form or pattern\n",
            "Examples: ['I profited from his example']\n",
            "\n",
            "Synset: exemplar.n.01\n",
            "Definition: something to be imitated\n",
            "Examples: ['an exemplar of success', 'a model of clarity', 'he is the very model of a modern major general']\n",
            "\n",
            "Synset: example.n.04\n",
            "Definition: punishment intended as a warning to others\n",
            "Examples: ['they decided to make an example of him']\n",
            "\n",
            "Synset: case.n.01\n",
            "Definition: an occurrence of something\n",
            "Examples: ['it was a case of bad judgment', 'another instance occurred yesterday', 'but there is always the famous example of the Smiths']\n",
            "\n",
            "Synset: exercise.n.04\n",
            "Definition: a task performed or problem solved in order to develop skill or understanding\n",
            "Examples: ['you must work the examples at the end of each chapter in the textbook']\n",
            "\n"
          ]
        }
      ],
      "source": [
        "import nltk\n",
        "from nltk.corpus import wordnet\n",
        "\n",
        "def explore_word_meanings(word):\n",
        "    # Get synsets for the given word\n",
        "    synsets = wordnet.synsets(word)\n",
        "\n",
        "    if not synsets:\n",
        "        print(f\"No synsets found for the word '{word}'.\")\n",
        "        return\n",
        "\n",
        "    print(f\"Synsets for the word '{word}':\")\n",
        "    for synset in synsets:\n",
        "        print(f\"Synset: {synset.name()}\")\n",
        "        print(f\"Definition: {synset.definition()}\")\n",
        "        print(f\"Examples: {synset.examples()}\")\n",
        "        print()\n",
        "\n",
        "if __name__ == \"__main__\":\n",
        "    # Replace 'example' with the word you want to explore\n",
        "    word_to_explore = \"example\"\n",
        "\n",
        "    # Download WordNet data\n",
        "    nltk.download('wordnet')\n",
        "\n",
        "    explore_word_meanings(word_to_explore)\n"
      ]
    }
  ]
}
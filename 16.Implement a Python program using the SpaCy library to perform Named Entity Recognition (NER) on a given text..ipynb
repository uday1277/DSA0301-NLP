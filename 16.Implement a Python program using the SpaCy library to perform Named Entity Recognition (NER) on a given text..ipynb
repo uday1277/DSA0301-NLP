{
  "nbformat": 4,
  "nbformat_minor": 0,
  "metadata": {
    "colab": {
      "provenance": [],
      "authorship_tag": "ABX9TyPhuq/COqhdeZm4b8YaDnwD",
      "include_colab_link": true
    },
    "kernelspec": {
      "name": "python3",
      "display_name": "Python 3"
    },
    "language_info": {
      "name": "python"
    }
  },
  "cells": [
    {
      "cell_type": "markdown",
      "metadata": {
        "id": "view-in-github",
        "colab_type": "text"
      },
      "source": [
        "<a href=\"https://colab.research.google.com/github/uday1277/DSA0301-NLP/blob/main/16.Implement%20a%20Python%20program%20using%20the%20SpaCy%20library%20to%20perform%20Named%20Entity%20Recognition%20(NER)%20on%20a%20given%20text..ipynb\" target=\"_parent\"><img src=\"https://colab.research.google.com/assets/colab-badge.svg\" alt=\"Open In Colab\"/></a>"
      ]
    },
    {
      "cell_type": "code",
      "execution_count": 6,
      "metadata": {
        "colab": {
          "base_uri": "https://localhost:8080/"
        },
        "id": "31ZZRbXPB-5F",
        "outputId": "e69ef8bf-cc9b-4313-9725-8cfe5ef8adce"
      },
      "outputs": [
        {
          "output_type": "stream",
          "name": "stdout",
          "text": [
            "Entity: Apple Inc., Type: ORG\n",
            "Entity: San Francisco, Type: GPE\n",
            "Entity: next month, Type: DATE\n"
          ]
        }
      ],
      "source": [
        "import spacy\n",
        "\n",
        "# Load the English language model\n",
        "nlp = spacy.load(\"en_core_web_sm\")\n",
        "\n",
        "# Sample text for Named Entity Recognition\n",
        "text = \"Apple Inc. is planning to open a new store in San Francisco next month.\"\n",
        "\n",
        "# Process the text using SpaCy NLP pipeline\n",
        "doc = nlp(text)\n",
        "\n",
        "# Extract named entities\n",
        "entities = [(ent.text, ent.label_) for ent in doc.ents]\n",
        "\n",
        "# Print the named entities\n",
        "for entity in entities:\n",
        "    print(f\"Entity: {entity[0]}, Type: {entity[1]}\")\n"
      ]
    }
  ]
}
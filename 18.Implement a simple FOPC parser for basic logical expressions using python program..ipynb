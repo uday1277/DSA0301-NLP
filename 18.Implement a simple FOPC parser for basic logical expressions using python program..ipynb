{
  "nbformat": 4,
  "nbformat_minor": 0,
  "metadata": {
    "colab": {
      "provenance": [],
      "authorship_tag": "ABX9TyOxwLaG75RlyR1TkfS/fVA9",
      "include_colab_link": true
    },
    "kernelspec": {
      "name": "python3",
      "display_name": "Python 3"
    },
    "language_info": {
      "name": "python"
    }
  },
  "cells": [
    {
      "cell_type": "markdown",
      "metadata": {
        "id": "view-in-github",
        "colab_type": "text"
      },
      "source": [
        "<a href=\"https://colab.research.google.com/github/uday1277/DSA0301-NLP/blob/main/18.Implement%20a%20simple%20FOPC%20parser%20for%20basic%20logical%20expressions%20using%20python%20program..ipynb\" target=\"_parent\"><img src=\"https://colab.research.google.com/assets/colab-badge.svg\" alt=\"Open In Colab\"/></a>"
      ]
    },
    {
      "cell_type": "code",
      "execution_count": 1,
      "metadata": {
        "id": "KxSV_AvnIcVw",
        "outputId": "4cede13d-c36c-4f6c-da67-2b51064221d2",
        "colab": {
          "base_uri": "https://localhost:8080/"
        }
      },
      "outputs": [
        {
          "output_type": "stream",
          "name": "stdout",
          "text": [
            "[['forall', 'x', [['P', '(', ['x'], ')'], 'and', ['Q', '(', ['x', ',', 'y'], ')']]]]\n"
          ]
        }
      ],
      "source": [
        "from pyparsing import Word, alphas, alphanums, Forward, oneOf, Optional, ZeroOrMore, Group, Suppress\n",
        "\n",
        "# Define basic elements\n",
        "variable = Word(alphas, alphanums + \"_\")\n",
        "quantifier = oneOf(\"forall exists\")\n",
        "operator = oneOf(\"and or implies iff not\")\n",
        "open_parenthesis = Suppress(\"(\")\n",
        "close_parenthesis = Suppress(\")\")\n",
        "\n",
        "# Define the FOPC grammar\n",
        "expression = Forward()\n",
        "\n",
        "atom = Group(variable + Optional(\"(\" + Group(variable + ZeroOrMore(\",\" + variable)) + \")\"))\n",
        "term = atom | variable\n",
        "\n",
        "quantified_expr = Group(quantifier + variable + expression)\n",
        "unary_expr = Group(operator + expression)\n",
        "binary_expr = Group(open_parenthesis + expression + operator + expression + close_parenthesis)\n",
        "\n",
        "expression << (quantified_expr | unary_expr | binary_expr | term)\n",
        "\n",
        "# Parse FOPC expression\n",
        "def parse_fopc(input_str):\n",
        "    return expression.parseString(input_str, parseAll=True)\n",
        "\n",
        "# Test the parser\n",
        "if __name__ == \"__main__\":\n",
        "    input_expression = \"forall x (P(x) and Q(x, y))\"\n",
        "    result = parse_fopc(input_expression)\n",
        "    print(result)\n"
      ]
    }
  ]
}
{
  "nbformat": 4,
  "nbformat_minor": 0,
  "metadata": {
    "colab": {
      "provenance": [],
      "authorship_tag": "ABX9TyNUYA4ib1dDdoC145z4QXQS",
      "include_colab_link": true
    },
    "kernelspec": {
      "name": "python3",
      "display_name": "Python 3"
    },
    "language_info": {
      "name": "python"
    }
  },
  "cells": [
    {
      "cell_type": "markdown",
      "metadata": {
        "id": "view-in-github",
        "colab_type": "text"
      },
      "source": [
        "<a href=\"https://colab.research.google.com/github/uday1277/DSA0301-NLP/blob/main/22.Create%20a%20python%20program%20that%20performs%20reference%20resolution%20within%20a%20text..ipynb\" target=\"_parent\"><img src=\"https://colab.research.google.com/assets/colab-badge.svg\" alt=\"Open In Colab\"/></a>"
      ]
    },
    {
      "cell_type": "code",
      "execution_count": 4,
      "metadata": {
        "colab": {
          "base_uri": "https://localhost:8080/"
        },
        "id": "7V5Kz6fGJ-vC",
        "outputId": "ee04cde8-6b95-4aef-b9bb-3efea212401e"
      },
      "outputs": [
        {
          "output_type": "stream",
          "name": "stdout",
          "text": [
            "Original Text:\n",
            "John has a cat. He loves it. The cat is very playful.\n",
            "\n",
            "Resolved Text:\n",
            " has a  .  loves it . The  is very playful .\n"
          ]
        }
      ],
      "source": [
        "\n",
        "import spacy\n",
        "\n",
        "# Load the spaCy English model\n",
        "nlp = spacy.load(\"en_core_web_sm\")\n",
        "\n",
        "def resolve_references(text):\n",
        "    # Process the text using spaCy\n",
        "    doc = nlp(text)\n",
        "\n",
        "    # Create a dictionary to store resolved references\n",
        "    references = {}\n",
        "\n",
        "    # Iterate through tokens in the document\n",
        "    for token in doc:\n",
        "        if token.dep_ in [\"pronoun\", \"nsubj\", \"attr\"]:\n",
        "            # Check if the token is a pronoun or a subject\n",
        "            resolved_reference = find_antecedent(token)\n",
        "\n",
        "            # Store the resolved reference in the dictionary\n",
        "            references[token.text] = resolved_reference\n",
        "\n",
        "    # Replace pronouns with resolved references in the text\n",
        "    resolved_text = \" \".join(references.get(token.text, token.text) for token in doc)\n",
        "\n",
        "    return resolved_text\n",
        "\n",
        "def find_antecedent(pronoun_token):\n",
        "    # Find the antecedent of the pronoun by traversing the dependency tree\n",
        "    for ancestor in pronoun_token.ancestors:\n",
        "        if ancestor.dep_ in [\"nsubj\", \"attr\"]:\n",
        "            return ancestor.text\n",
        "\n",
        "    # Return an empty string if no antecedent is found\n",
        "    return \"\"\n",
        "\n",
        "if __name__ == \"__main__\":\n",
        "    # Example text with references\n",
        "    example_text = \"John has a cat. He loves it. The cat is very playful.\"\n",
        "\n",
        "    # Perform reference resolution\n",
        "    resolved_text = resolve_references(example_text)\n",
        "\n",
        "    # Print the original and resolved texts\n",
        "    print(\"Original Text:\")\n",
        "    print(example_text)\n",
        "    print(\"\\nResolved Text:\")\n",
        "    print(resolved_text)\n"
      ]
    }
  ]
}
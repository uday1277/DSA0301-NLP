{
  "nbformat": 4,
  "nbformat_minor": 0,
  "metadata": {
    "colab": {
      "provenance": [],
      "authorship_tag": "ABX9TyN/i+gV/TDf5HOEZmovKkeo",
      "include_colab_link": true
    },
    "kernelspec": {
      "name": "python3",
      "display_name": "Python 3"
    },
    "language_info": {
      "name": "python"
    }
  },
  "cells": [
    {
      "cell_type": "markdown",
      "metadata": {
        "id": "view-in-github",
        "colab_type": "text"
      },
      "source": [
        "<a href=\"https://colab.research.google.com/github/uday1277/DSA0301-NLP/blob/main/8.Implement%20a%20rule-based%20part-of-speech%20tagging%20system%20using%20regular%20expressions%20using%20python..ipynb\" target=\"_parent\"><img src=\"https://colab.research.google.com/assets/colab-badge.svg\" alt=\"Open In Colab\"/></a>"
      ]
    },
    {
      "cell_type": "code",
      "execution_count": 1,
      "metadata": {
        "colab": {
          "base_uri": "https://localhost:8080/"
        },
        "id": "uJiIocZWYSBB",
        "outputId": "604e2618-1fb6-40fb-8d30-d74cf5df4d84"
      },
      "outputs": [
        {
          "output_type": "stream",
          "name": "stdout",
          "text": [
            "The: DT\n",
            "quick: JJ\n",
            "brown: JJ\n",
            "fox: NN\n",
            "jumps: VBZ\n",
            "over: IN\n",
            "the: DT\n",
            "lazy: JJ\n",
            "dog.: NN\n"
          ]
        }
      ],
      "source": [
        "import re\n",
        "\n",
        "# Sample text for tagging\n",
        "text = \"The quick brown fox jumps over the lazy dog.\"\n",
        "\n",
        "# Define regular expression patterns and corresponding POS tags\n",
        "patterns = [\n",
        "    (r'\\bThe\\b', 'DT'),      # Determiner\n",
        "    (r'\\bquick\\b', 'JJ'),    # Adjective\n",
        "    (r'\\bbrown\\b', 'JJ'),    # Adjective\n",
        "    (r'\\bfox\\b', 'NN'),      # Noun\n",
        "    (r'\\bjumps\\b', 'VBZ'),   # Verb\n",
        "    (r'\\bover\\b', 'IN'),     # Preposition\n",
        "    (r'\\bthe\\b', 'DT'),      # Determiner\n",
        "    (r'\\blazy\\b', 'JJ'),     # Adjective\n",
        "    (r'\\bdog\\b', 'NN'),      # Noun\n",
        "]\n",
        "\n",
        "# Perform rule-based POS tagging\n",
        "pos_tags = []\n",
        "for word in text.split():\n",
        "    tagged = False\n",
        "    for pattern, pos_tag in patterns:\n",
        "        if re.match(pattern, word, re.I):  # Case-insensitive match\n",
        "            pos_tags.append((word, pos_tag))\n",
        "            tagged = True\n",
        "            break\n",
        "    if not tagged:\n",
        "        pos_tags.append((word, 'Unknown'))\n",
        "\n",
        "# Print the tagged words\n",
        "for word, pos_tag in pos_tags:\n",
        "    print(f\"{word}: {pos_tag}\")\n"
      ]
    }
  ]
}
{
  "nbformat": 4,
  "nbformat_minor": 0,
  "metadata": {
    "colab": {
      "provenance": [],
      "authorship_tag": "ABX9TyNP/+OmcdSvx+spmcztOXwU",
      "include_colab_link": true
    },
    "kernelspec": {
      "name": "python3",
      "display_name": "Python 3"
    },
    "language_info": {
      "name": "python"
    }
  },
  "cells": [
    {
      "cell_type": "markdown",
      "metadata": {
        "id": "view-in-github",
        "colab_type": "text"
      },
      "source": [
        "<a href=\"https://colab.research.google.com/github/uday1277/DSA0301-NLP/blob/main/9.Implement%20transformation-based%20tagging%20using%20a%20set%20of%20transformation%20rules%2C%20apply%20a%20simple%20rule%20to%20tag%20words%20using%20python..ipynb\" target=\"_parent\"><img src=\"https://colab.research.google.com/assets/colab-badge.svg\" alt=\"Open In Colab\"/></a>"
      ]
    },
    {
      "cell_type": "code",
      "execution_count": 1,
      "metadata": {
        "colab": {
          "base_uri": "https://localhost:8080/"
        },
        "id": "fYHiGJ8RYz_h",
        "outputId": "b1292ee5-8c25-4eea-d126-5468729cb2d0"
      },
      "outputs": [
        {
          "output_type": "stream",
          "name": "stdout",
          "text": [
            "The: DT\n",
            "quick: RB\n",
            "brown: JJ\n",
            "fox: NN\n",
            "jumps: VBZ\n",
            "over: IN\n",
            "the: DT\n",
            "lazy: JJ\n",
            "dog: NNS\n"
          ]
        }
      ],
      "source": [
        "# Sample text for tagging\n",
        "text = \"The quick brown fox jumps over the lazy dog.\"\n",
        "\n",
        "# Define initial POS tags for each word\n",
        "initial_tags = {\n",
        "    \"The\": \"DT\",\n",
        "    \"quick\": \"JJ\",\n",
        "    \"brown\": \"JJ\",\n",
        "    \"fox\": \"NN\",\n",
        "    \"jumps\": \"VB\",\n",
        "    \"over\": \"IN\",\n",
        "    \"the\": \"DT\",\n",
        "    \"lazy\": \"JJ\",\n",
        "    \"dog\": \"NN\",\n",
        "}\n",
        "\n",
        "# Define a transformation rule\n",
        "transformation_rule = {\n",
        "    \"quick\": \"RB\",  # Change \"quick\" from adjective to adverb\n",
        "    \"jumps\": \"VBZ\",  # Change \"jumps\" from verb to verb with 3rd person singular\n",
        "    \"dog\": \"NNS\",  # Change \"dog\" from singular noun to plural noun\n",
        "}\n",
        "\n",
        "# Apply the transformation rule to update POS tags\n",
        "for word, initial_tag in initial_tags.items():\n",
        "    if word in transformation_rule:\n",
        "        initial_tags[word] = transformation_rule[word]\n",
        "\n",
        "# Print the tagged words after applying the transformation rule\n",
        "for word, pos_tag in initial_tags.items():\n",
        "    print(f\"{word}: {pos_tag}\")\n"
      ]
    }
  ]
}
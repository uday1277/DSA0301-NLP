{
  "nbformat": 4,
  "nbformat_minor": 0,
  "metadata": {
    "colab": {
      "provenance": [],
      "authorship_tag": "ABX9TyNs1jzzcJkW8FrqJz3zz3U5",
      "include_colab_link": true
    },
    "kernelspec": {
      "name": "python3",
      "display_name": "Python 3"
    },
    "language_info": {
      "name": "python"
    }
  },
  "cells": [
    {
      "cell_type": "markdown",
      "metadata": {
        "id": "view-in-github",
        "colab_type": "text"
      },
      "source": [
        "<a href=\"https://colab.research.google.com/github/uday1277/DSA0301-NLP/blob/main/Representing%20Meaning.ipynb\" target=\"_parent\"><img src=\"https://colab.research.google.com/assets/colab-badge.svg\" alt=\"Open In Colab\"/></a>"
      ]
    },
    {
      "cell_type": "code",
      "execution_count": 9,
      "metadata": {
        "colab": {
          "base_uri": "https://localhost:8080/"
        },
        "id": "4A9BmHZbx99C",
        "outputId": "ffc601c6-0ba9-414a-a3a2-7c4b47af3e69"
      },
      "outputs": [
        {
          "output_type": "stream",
          "name": "stdout",
          "text": [
            "the temperature in the room is 25 degree celsius\n",
            "the room temperature is 25 degree celsius\n",
            "the canonical form of temperature is Temperature\n",
            "the temperature of 25 degree celsius : its's warm\n"
          ]
        }
      ],
      "source": [
        "print(\"the temperature in the room is 25 degree celsius\")\n",
        "temperature_celsius=25\n",
        "print(f\"the room temperature is {temperature_celsius} degree celsius\")\n",
        "Word=\"temperature\"\n",
        "canonical_form=Word.capitalize()\n",
        "print(f\"the canonical form of {Word} is {canonical_form}\")\n",
        "temperature_in_celsius=25\n",
        "temperature_in_farenheit=(temperature_in_celsius*9/5+32)\n",
        "def analyze_temperature(temp):\n",
        "  if temp<0:\n",
        "    return \"it is freezing!\"\n",
        "  elif 0<=temp<20:\n",
        "    return \"it's cool\"\n",
        "  else:\n",
        "    return\"its's warm\"\n",
        "temperature=25\n",
        "analysis=analyze_temperature(temperature)\n",
        "print(f\"the temperature of {temperature} degree celsius : {analysis}\")"
      ]
    }
  ]
}
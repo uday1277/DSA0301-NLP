{
  "nbformat": 4,
  "nbformat_minor": 0,
  "metadata": {
    "colab": {
      "provenance": [],
      "authorship_tag": "ABX9TyMis3BHCSaIE6xcP1JjgzTg",
      "include_colab_link": true
    },
    "kernelspec": {
      "name": "python3",
      "display_name": "Python 3"
    },
    "language_info": {
      "name": "python"
    }
  },
  "cells": [
    {
      "cell_type": "markdown",
      "metadata": {
        "id": "view-in-github",
        "colab_type": "text"
      },
      "source": [
        "<a href=\"https://colab.research.google.com/github/uday1277/DSA0301-NLP/blob/main/13.Generate%20a%20parse%20tree%20for%20a%20given%20sentence%20using%20a%20context-free%20grammar%20using%20python%20program..ipynb\" target=\"_parent\"><img src=\"https://colab.research.google.com/assets/colab-badge.svg\" alt=\"Open In Colab\"/></a>"
      ]
    },
    {
      "cell_type": "code",
      "execution_count": 1,
      "metadata": {
        "colab": {
          "base_uri": "https://localhost:8080/"
        },
        "id": "NEkEjrwYBAwQ",
        "outputId": "c46c2253-3ec1-4416-e1a2-522eed662b08"
      },
      "outputs": [
        {
          "output_type": "stream",
          "name": "stdout",
          "text": [
            "         S             \n",
            "  _______|___           \n",
            " |           VP        \n",
            " |    _______|___       \n",
            " |   |           NP    \n",
            " |   |        ___|___   \n",
            " NP  V      Det      N \n",
            " |   |       |       |  \n",
            " I  met      a      dog\n",
            "\n"
          ]
        }
      ],
      "source": [
        "import nltk\n",
        "from nltk import CFG\n",
        "\n",
        "# Define a context-free grammar\n",
        "grammar = CFG.fromstring(\"\"\"\n",
        "    S -> NP VP\n",
        "    NP -> Det N | 'I'\n",
        "    VP -> V NP\n",
        "    Det -> 'the' | 'a'\n",
        "    N -> 'cat' | 'dog'\n",
        "    V -> 'chased' | 'met'\n",
        "\"\"\")\n",
        "\n",
        "# Create a parser using the CYK algorithm\n",
        "parser = nltk.ChartParser(grammar)\n",
        "\n",
        "# Define a sentence\n",
        "sentence = \"I met a dog\"\n",
        "\n",
        "# Tokenize the sentence\n",
        "tokens = sentence.split()\n",
        "\n",
        "# Parse the sentence and print the parse tree\n",
        "for tree in parser.parse(tokens):\n",
        "    tree.pretty_print()\n"
      ]
    }
  ]
}
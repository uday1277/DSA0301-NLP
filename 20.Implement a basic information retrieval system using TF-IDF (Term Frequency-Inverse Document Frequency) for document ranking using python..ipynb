{
  "nbformat": 4,
  "nbformat_minor": 0,
  "metadata": {
    "colab": {
      "provenance": [],
      "authorship_tag": "ABX9TyOpUzT95kgB/jcL50D3FLNZ",
      "include_colab_link": true
    },
    "kernelspec": {
      "name": "python3",
      "display_name": "Python 3"
    },
    "language_info": {
      "name": "python"
    }
  },
  "cells": [
    {
      "cell_type": "markdown",
      "metadata": {
        "id": "view-in-github",
        "colab_type": "text"
      },
      "source": [
        "<a href=\"https://colab.research.google.com/github/uday1277/DSA0301-NLP/blob/main/20.Implement%20a%20basic%20information%20retrieval%20system%20using%20TF-IDF%20(Term%20Frequency-Inverse%20Document%20Frequency)%20for%20document%20ranking%20using%20python..ipynb\" target=\"_parent\"><img src=\"https://colab.research.google.com/assets/colab-badge.svg\" alt=\"Open In Colab\"/></a>"
      ]
    },
    {
      "cell_type": "code",
      "execution_count": 3,
      "metadata": {
        "colab": {
          "base_uri": "https://localhost:8080/"
        },
        "id": "xJWR8y7vJJED",
        "outputId": "6e0f07d9-b2e7-4386-a1d2-b1780190d669"
      },
      "outputs": [
        {
          "output_type": "stream",
          "name": "stdout",
          "text": [
            "Query: A lazy cat\n",
            "Ranked Documents:\n",
            "1. Document 3, Similarity Score: 0.2601\n",
            "    The cat and the dog are good friends\n",
            "\n",
            "2. Document 5, Similarity Score: 0.2227\n",
            "    A quick fox and a lazy dog\n",
            "\n",
            "3. Document 4, Similarity Score: 0.1719\n",
            "    The lazy dog sleeps all day\n",
            "\n",
            "4. Document 1, Similarity Score: 0.1379\n",
            "    The quick brown fox jumps over the lazy dog\n",
            "\n",
            "5. Document 2, Similarity Score: 0.0000\n",
            "    A brown dog chases a fox\n",
            "\n"
          ]
        }
      ],
      "source": [
        "from sklearn.feature_extraction.text import TfidfVectorizer\n",
        "from sklearn.metrics.pairwise import linear_kernel\n",
        "\n",
        "# Sample documents\n",
        "documents = [\n",
        "    \"The quick brown fox jumps over the lazy dog\",\n",
        "    \"A brown dog chases a fox\",\n",
        "    \"The cat and the dog are good friends\",\n",
        "    \"The lazy dog sleeps all day\",\n",
        "    \"A quick fox and a lazy dog\"\n",
        "]\n",
        "\n",
        "# Sample query\n",
        "query = \"A lazy cat\"\n",
        "\n",
        "def retrieve_documents(query, documents):\n",
        "    # Combine the query and documents\n",
        "    all_texts = [query] + documents\n",
        "\n",
        "    # Create TF-IDF vectorizer\n",
        "    vectorizer = TfidfVectorizer()\n",
        "\n",
        "    # Compute TF-IDF scores\n",
        "    tfidf_matrix = vectorizer.fit_transform(all_texts)\n",
        "\n",
        "    # Calculate cosine similarity between the query and documents\n",
        "    cosine_similarities = linear_kernel(tfidf_matrix[0:1], tfidf_matrix[1:]).flatten()\n",
        "\n",
        "    # Sort the documents by similarity score\n",
        "    results = sorted(list(enumerate(cosine_similarities, start=1)), key=lambda x: x[1], reverse=True)\n",
        "\n",
        "    return results\n",
        "\n",
        "if __name__ == \"__main__\":\n",
        "    # Retrieve and print ranked documents based on the query\n",
        "    ranked_documents = retrieve_documents(query, documents)\n",
        "\n",
        "    print(\"Query:\", query)\n",
        "    print(\"Ranked Documents:\")\n",
        "    for rank, (doc_index, similarity_score) in enumerate(ranked_documents, start=1):\n",
        "        print(f\"{rank}. Document {doc_index}, Similarity Score: {similarity_score:.4f}\")\n",
        "        print(\"   \", documents[doc_index - 1])\n",
        "        print()\n"
      ]
    }
  ]
}
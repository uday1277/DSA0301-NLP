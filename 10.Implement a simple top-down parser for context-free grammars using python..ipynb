{
  "nbformat": 4,
  "nbformat_minor": 0,
  "metadata": {
    "colab": {
      "provenance": [],
      "authorship_tag": "ABX9TyPS/NKWbzdoEFhxSb/12JPw",
      "include_colab_link": true
    },
    "kernelspec": {
      "name": "python3",
      "display_name": "Python 3"
    },
    "language_info": {
      "name": "python"
    }
  },
  "cells": [
    {
      "cell_type": "markdown",
      "metadata": {
        "id": "view-in-github",
        "colab_type": "text"
      },
      "source": [
        "<a href=\"https://colab.research.google.com/github/uday1277/DSA0301-NLP/blob/main/10.Implement%20a%20simple%20top-down%20parser%20for%20context-free%20grammars%20using%20python..ipynb\" target=\"_parent\"><img src=\"https://colab.research.google.com/assets/colab-badge.svg\" alt=\"Open In Colab\"/></a>"
      ]
    },
    {
      "cell_type": "code",
      "execution_count": 2,
      "metadata": {
        "colab": {
          "base_uri": "https://localhost:8080/"
        },
        "id": "IJs5b9-GZUK_",
        "outputId": "2db0a5c1-f863-467a-feeb-26ace5e19fc1"
      },
      "outputs": [
        {
          "output_type": "stream",
          "name": "stdout",
          "text": [
            "Error: Not enough operands for operator.\n"
          ]
        }
      ],
      "source": [
        "# Define a simple arithmetic expression grammar\n",
        "# E -> E + T | T\n",
        "# T -> T * F | F\n",
        "# F -> ( E ) | num\n",
        "\n",
        "# Input expression\n",
        "input_expr = \"3 + 4 * (5 + 2)\"\n",
        "\n",
        "# Tokenize the input expression\n",
        "tokens = input_expr.split()\n",
        "\n",
        "# Define a simple lexer to identify numbers and operators\n",
        "def lexer(tokens):\n",
        "    for token in tokens:\n",
        "        if token.isdigit():\n",
        "            yield ('num', int(token))\n",
        "        else:\n",
        "            yield (token, token)\n",
        "\n",
        "# Define the top-down parser\n",
        "def parse_expr(tokens):\n",
        "    stack = []\n",
        "    for token in tokens:\n",
        "        if token[0] == 'num':\n",
        "            stack.append(token[1])\n",
        "        elif token[0] == '(':\n",
        "            stack.append(parse_expr(tokens))\n",
        "        elif token[0] == ')':\n",
        "            if len(stack) < 3:\n",
        "                raise ValueError(\"Mismatched parentheses or empty expression.\")\n",
        "            right_operand = stack.pop()\n",
        "            operator = stack.pop()\n",
        "            left_operand = stack.pop()\n",
        "            if operator != '(':\n",
        "                raise ValueError(\"Expected opening parenthesis '('.\")\n",
        "            stack.append(left_operand + right_operand)\n",
        "        else:\n",
        "            operator = token[0]\n",
        "            if len(stack) < 2:\n",
        "                raise ValueError(\"Not enough operands for operator.\")\n",
        "            right_operand = stack.pop()\n",
        "            left_operand = stack.pop()\n",
        "            if operator == '+':\n",
        "                stack.append(left_operand + right_operand)\n",
        "            elif operator == '*':\n",
        "                stack.append(left_operand * right_operand)\n",
        "            else:\n",
        "                raise ValueError(f\"Unknown operator: {operator}\")\n",
        "    if len(stack) != 1:\n",
        "        raise ValueError(\"Incomplete expression.\")\n",
        "    return stack[0]\n",
        "\n",
        "try:\n",
        "    # Parse the input expression\n",
        "    parsed_result = parse_expr(lexer(tokens))\n",
        "    print(f\"Parsed result: {parsed_result}\")\n",
        "except Exception as e:\n",
        "    print(f\"Error: {e}\")\n"
      ]
    }
  ]
}
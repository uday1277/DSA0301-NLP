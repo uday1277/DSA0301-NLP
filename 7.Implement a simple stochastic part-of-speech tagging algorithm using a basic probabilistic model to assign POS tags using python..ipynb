{
  "nbformat": 4,
  "nbformat_minor": 0,
  "metadata": {
    "colab": {
      "provenance": [],
      "authorship_tag": "ABX9TyPH88mZ7jhImz2mdpQYP+pQ",
      "include_colab_link": true
    },
    "kernelspec": {
      "name": "python3",
      "display_name": "Python 3"
    },
    "language_info": {
      "name": "python"
    }
  },
  "cells": [
    {
      "cell_type": "markdown",
      "metadata": {
        "id": "view-in-github",
        "colab_type": "text"
      },
      "source": [
        "<a href=\"https://colab.research.google.com/github/uday1277/DSA0301-NLP/blob/main/7.Implement%20a%20simple%20stochastic%20part-of-speech%20tagging%20algorithm%20using%20a%20basic%20probabilistic%20model%20to%20assign%20POS%20tags%20using%20python..ipynb\" target=\"_parent\"><img src=\"https://colab.research.google.com/assets/colab-badge.svg\" alt=\"Open In Colab\"/></a>"
      ]
    },
    {
      "cell_type": "code",
      "execution_count": 1,
      "metadata": {
        "colab": {
          "base_uri": "https://localhost:8080/"
        },
        "id": "Lh2_ER5gWXuM",
        "outputId": "120cf8f8-0d46-4d18-c2f0-95ee6522bc48"
      },
      "outputs": [
        {
          "output_type": "stream",
          "name": "stdout",
          "text": [
            "The: Unknown\n",
            "quick: Unknown\n",
            "brown: Unknown\n",
            "fox: Unknown\n",
            "jumps: Unknown\n",
            "over: Unknown\n",
            "the: Unknown\n",
            "lazy: Unknown\n",
            "dog.: Unknown\n"
          ]
        }
      ],
      "source": [
        "import random\n",
        "\n",
        "# Sample training data with (word, POS tag) pairs\n",
        "training_data = [\n",
        "    (\"The\", \"DT\"),\n",
        "    (\"quick\", \"JJ\"),\n",
        "    (\"brown\", \"JJ\"),\n",
        "    (\"fox\", \"NN\"),\n",
        "    (\"jumps\", \"VBZ\"),\n",
        "    (\"over\", \"IN\"),\n",
        "    (\"the\", \"DT\"),\n",
        "    (\"lazy\", \"JJ\"),\n",
        "    (\"dog\", \"NN\"),\n",
        "    (\".\", \".\"),\n",
        "]\n",
        "\n",
        "# Define a function to train the probabilistic model\n",
        "def train_pos_tagger(training_data):\n",
        "    pos_model = {}\n",
        "    for word, pos_tag in training_data:\n",
        "        if pos_tag not in pos_model:\n",
        "            pos_model[pos_tag] = []\n",
        "        pos_model[pos_tag].append(word)\n",
        "    return pos_model\n",
        "\n",
        "# Train the POS tagger\n",
        "pos_model = train_pos_tagger(training_data)\n",
        "\n",
        "# Sample text for tagging\n",
        "text = \"The quick brown fox jumps over the lazy dog.\"\n",
        "\n",
        "# Tokenize the text into words\n",
        "words = text.split()\n",
        "\n",
        "# Perform stochastic POS tagging\n",
        "pos_tags = []\n",
        "for word in words:\n",
        "    if word in pos_model:\n",
        "        possible_tags = pos_model[word]\n",
        "        selected_tag = random.choice(possible_tags)\n",
        "        pos_tags.append((word, selected_tag))\n",
        "    else:\n",
        "        pos_tags.append((word, \"Unknown\"))\n",
        "\n",
        "# Print the tagged words\n",
        "for word, pos_tag in pos_tags:\n",
        "    print(f\"{word}: {pos_tag}\")\n"
      ]
    }
  ]
}